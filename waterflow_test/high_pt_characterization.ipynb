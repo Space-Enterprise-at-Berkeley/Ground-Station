{
 "cells": [
  {
   "cell_type": "code",
   "execution_count": 1,
   "metadata": {},
   "outputs": [],
   "source": [
    "import numpy as np\n",
    "import scipy as sc\n",
    "from scipy.optimize import curve_fit as cf\n",
    "from scipy.interpolate import interp1d\n",
    "import matplotlib.pyplot as plt\n",
    "import pandas as pd"
   ]
  },
  {
   "cell_type": "code",
   "execution_count": 2,
   "metadata": {},
   "outputs": [],
   "source": [
    "def sixth_order(x, a, b, c, d, e, f, g):\n",
    "    return a * pow(x,6) + b * pow(x,5) + c * pow(x,4) + d* pow(x,3) + e * pow(x,2) + f * pow(x,1) + g\n",
    "\n",
    "def seventh_order(x, a, b, c, d, e, f, g, h):\n",
    "    return sixth_order(x, a, b, c, d, e, f, g) * x + h"
   ]
  },
  {
   "cell_type": "markdown",
   "metadata": {},
   "source": [
    "Current conversion: converted = ((raw / 1024) - 0.2) * 5000\n"
   ]
  },
  {
   "cell_type": "code",
   "execution_count": 3,
   "metadata": {},
   "outputs": [],
   "source": [
    "data = pd.read_csv(\"high_pt_characterization_10_10\")"
   ]
  },
  {
   "cell_type": "code",
   "execution_count": 4,
   "metadata": {},
   "outputs": [],
   "source": [
    "data['raw'] = (data[' converted'] / 5000 + 0.2) * 1024\n"
   ]
  },
  {
   "cell_type": "code",
   "execution_count": 5,
   "metadata": {
    "scrolled": true
   },
   "outputs": [
    {
     "data": {
      "text/html": [
       "<div>\n",
       "<style scoped>\n",
       "    .dataframe tbody tr th:only-of-type {\n",
       "        vertical-align: middle;\n",
       "    }\n",
       "\n",
       "    .dataframe tbody tr th {\n",
       "        vertical-align: top;\n",
       "    }\n",
       "\n",
       "    .dataframe thead th {\n",
       "        text-align: right;\n",
       "    }\n",
       "</style>\n",
       "<table border=\"1\" class=\"dataframe\">\n",
       "  <thead>\n",
       "    <tr style=\"text-align: right;\">\n",
       "      <th></th>\n",
       "      <th>digital</th>\n",
       "      <th>converted</th>\n",
       "      <th>raw</th>\n",
       "    </tr>\n",
       "  </thead>\n",
       "  <tbody>\n",
       "    <tr>\n",
       "      <th>0</th>\n",
       "      <td>700</td>\n",
       "      <td>580</td>\n",
       "      <td>323.584</td>\n",
       "    </tr>\n",
       "    <tr>\n",
       "      <th>1</th>\n",
       "      <td>730</td>\n",
       "      <td>615</td>\n",
       "      <td>330.752</td>\n",
       "    </tr>\n",
       "    <tr>\n",
       "      <th>2</th>\n",
       "      <td>0</td>\n",
       "      <td>15</td>\n",
       "      <td>207.872</td>\n",
       "    </tr>\n",
       "    <tr>\n",
       "      <th>3</th>\n",
       "      <td>150</td>\n",
       "      <td>100</td>\n",
       "      <td>225.280</td>\n",
       "    </tr>\n",
       "    <tr>\n",
       "      <th>4</th>\n",
       "      <td>805</td>\n",
       "      <td>665</td>\n",
       "      <td>340.992</td>\n",
       "    </tr>\n",
       "    <tr>\n",
       "      <th>5</th>\n",
       "      <td>890</td>\n",
       "      <td>740</td>\n",
       "      <td>356.352</td>\n",
       "    </tr>\n",
       "    <tr>\n",
       "      <th>6</th>\n",
       "      <td>990</td>\n",
       "      <td>820</td>\n",
       "      <td>372.736</td>\n",
       "    </tr>\n",
       "    <tr>\n",
       "      <th>7</th>\n",
       "      <td>1100</td>\n",
       "      <td>910</td>\n",
       "      <td>391.168</td>\n",
       "    </tr>\n",
       "    <tr>\n",
       "      <th>8</th>\n",
       "      <td>1200</td>\n",
       "      <td>980</td>\n",
       "      <td>405.504</td>\n",
       "    </tr>\n",
       "    <tr>\n",
       "      <th>9</th>\n",
       "      <td>1351</td>\n",
       "      <td>1120</td>\n",
       "      <td>434.176</td>\n",
       "    </tr>\n",
       "    <tr>\n",
       "      <th>10</th>\n",
       "      <td>1450</td>\n",
       "      <td>1200</td>\n",
       "      <td>450.560</td>\n",
       "    </tr>\n",
       "    <tr>\n",
       "      <th>11</th>\n",
       "      <td>1580</td>\n",
       "      <td>1300</td>\n",
       "      <td>471.040</td>\n",
       "    </tr>\n",
       "    <tr>\n",
       "      <th>12</th>\n",
       "      <td>1760</td>\n",
       "      <td>1450</td>\n",
       "      <td>501.760</td>\n",
       "    </tr>\n",
       "    <tr>\n",
       "      <th>13</th>\n",
       "      <td>1930</td>\n",
       "      <td>1580</td>\n",
       "      <td>528.384</td>\n",
       "    </tr>\n",
       "    <tr>\n",
       "      <th>14</th>\n",
       "      <td>2100</td>\n",
       "      <td>1720</td>\n",
       "      <td>557.056</td>\n",
       "    </tr>\n",
       "    <tr>\n",
       "      <th>15</th>\n",
       "      <td>2180</td>\n",
       "      <td>1800</td>\n",
       "      <td>573.440</td>\n",
       "    </tr>\n",
       "    <tr>\n",
       "      <th>16</th>\n",
       "      <td>2400</td>\n",
       "      <td>1950</td>\n",
       "      <td>604.160</td>\n",
       "    </tr>\n",
       "    <tr>\n",
       "      <th>17</th>\n",
       "      <td>2550</td>\n",
       "      <td>2090</td>\n",
       "      <td>632.832</td>\n",
       "    </tr>\n",
       "    <tr>\n",
       "      <th>18</th>\n",
       "      <td>2700</td>\n",
       "      <td>2230</td>\n",
       "      <td>661.504</td>\n",
       "    </tr>\n",
       "    <tr>\n",
       "      <th>19</th>\n",
       "      <td>2870</td>\n",
       "      <td>2360</td>\n",
       "      <td>688.128</td>\n",
       "    </tr>\n",
       "    <tr>\n",
       "      <th>20</th>\n",
       "      <td>3020</td>\n",
       "      <td>2490</td>\n",
       "      <td>714.752</td>\n",
       "    </tr>\n",
       "    <tr>\n",
       "      <th>21</th>\n",
       "      <td>3190</td>\n",
       "      <td>2630</td>\n",
       "      <td>743.424</td>\n",
       "    </tr>\n",
       "    <tr>\n",
       "      <th>22</th>\n",
       "      <td>3333</td>\n",
       "      <td>2735</td>\n",
       "      <td>764.928</td>\n",
       "    </tr>\n",
       "    <tr>\n",
       "      <th>23</th>\n",
       "      <td>3426</td>\n",
       "      <td>2805</td>\n",
       "      <td>779.264</td>\n",
       "    </tr>\n",
       "    <tr>\n",
       "      <th>24</th>\n",
       "      <td>3620</td>\n",
       "      <td>2970</td>\n",
       "      <td>813.056</td>\n",
       "    </tr>\n",
       "    <tr>\n",
       "      <th>25</th>\n",
       "      <td>3700</td>\n",
       "      <td>3020</td>\n",
       "      <td>823.296</td>\n",
       "    </tr>\n",
       "    <tr>\n",
       "      <th>26</th>\n",
       "      <td>3850</td>\n",
       "      <td>3140</td>\n",
       "      <td>847.872</td>\n",
       "    </tr>\n",
       "    <tr>\n",
       "      <th>27</th>\n",
       "      <td>4000</td>\n",
       "      <td>3280</td>\n",
       "      <td>876.544</td>\n",
       "    </tr>\n",
       "    <tr>\n",
       "      <th>28</th>\n",
       "      <td>4080</td>\n",
       "      <td>3340</td>\n",
       "      <td>888.832</td>\n",
       "    </tr>\n",
       "    <tr>\n",
       "      <th>29</th>\n",
       "      <td>4186</td>\n",
       "      <td>3430</td>\n",
       "      <td>907.264</td>\n",
       "    </tr>\n",
       "    <tr>\n",
       "      <th>30</th>\n",
       "      <td>4221</td>\n",
       "      <td>3460</td>\n",
       "      <td>913.408</td>\n",
       "    </tr>\n",
       "    <tr>\n",
       "      <th>31</th>\n",
       "      <td>4365</td>\n",
       "      <td>3590</td>\n",
       "      <td>940.032</td>\n",
       "    </tr>\n",
       "  </tbody>\n",
       "</table>\n",
       "</div>"
      ],
      "text/plain": [
       "    digital   converted      raw\n",
       "0       700         580  323.584\n",
       "1       730         615  330.752\n",
       "2         0          15  207.872\n",
       "3       150         100  225.280\n",
       "4       805         665  340.992\n",
       "5       890         740  356.352\n",
       "6       990         820  372.736\n",
       "7      1100         910  391.168\n",
       "8      1200         980  405.504\n",
       "9      1351        1120  434.176\n",
       "10     1450        1200  450.560\n",
       "11     1580        1300  471.040\n",
       "12     1760        1450  501.760\n",
       "13     1930        1580  528.384\n",
       "14     2100        1720  557.056\n",
       "15     2180        1800  573.440\n",
       "16     2400        1950  604.160\n",
       "17     2550        2090  632.832\n",
       "18     2700        2230  661.504\n",
       "19     2870        2360  688.128\n",
       "20     3020        2490  714.752\n",
       "21     3190        2630  743.424\n",
       "22     3333        2735  764.928\n",
       "23     3426        2805  779.264\n",
       "24     3620        2970  813.056\n",
       "25     3700        3020  823.296\n",
       "26     3850        3140  847.872\n",
       "27     4000        3280  876.544\n",
       "28     4080        3340  888.832\n",
       "29     4186        3430  907.264\n",
       "30     4221        3460  913.408\n",
       "31     4365        3590  940.032"
      ]
     },
     "execution_count": 5,
     "metadata": {},
     "output_type": "execute_result"
    }
   ],
   "source": [
    "data"
   ]
  },
  {
   "cell_type": "code",
   "execution_count": 6,
   "metadata": {},
   "outputs": [],
   "source": [
    "res, cov = cf(seventh_order, data['raw'], data['digital'])"
   ]
  },
  {
   "cell_type": "code",
   "execution_count": 7,
   "metadata": {},
   "outputs": [
    {
     "data": {
      "text/plain": [
       "array([ 4.81649341e-16, -2.08701274e-12,  3.74338127e-09, -3.58936995e-06,\n",
       "        1.97860885e-03, -6.23995436e-01,  1.09627235e+02, -8.18065444e+03])"
      ]
     },
     "execution_count": 7,
     "metadata": {},
     "output_type": "execute_result"
    }
   ],
   "source": [
    "res"
   ]
  },
  {
   "cell_type": "code",
   "execution_count": null,
   "metadata": {},
   "outputs": [],
   "source": []
  },
  {
   "cell_type": "code",
   "execution_count": 8,
   "metadata": {},
   "outputs": [],
   "source": [
    "x = np.linspace(0,5000)\n",
    "p = sixth_order(x, res[0], res[1], res[2], res[3], res[4], res[5], res[6])"
   ]
  },
  {
   "cell_type": "code",
   "execution_count": 9,
   "metadata": {},
   "outputs": [
    {
     "data": {
      "text/plain": [
       "85939.40880524958"
      ]
     },
     "execution_count": 9,
     "metadata": {},
     "output_type": "execute_result"
    }
   ],
   "source": [
    "sixth_order(3100, res[0], res[1], res[2], res[3], res[4], res[5], res[6])"
   ]
  },
  {
   "cell_type": "code",
   "execution_count": 10,
   "metadata": {},
   "outputs": [
    {
     "data": {
      "text/plain": [
       "[<matplotlib.lines.Line2D at 0x7fc7cdb9f350>]"
      ]
     },
     "execution_count": 10,
     "metadata": {},
     "output_type": "execute_result"
    },
    {
     "data": {
      "image/png": "[encoded data removed]",
      "text/plain": [
       "<Figure size 432x288 with 1 Axes>"
      ]
     },
     "metadata": {
      "needs_background": "light"
     },
     "output_type": "display_data"
    }
   ],
   "source": [
    "plt.ylim(0, 5000)\n",
    "plt.plot(x, p)"
   ]
  },
  {
   "cell_type": "code",
   "execution_count": 11,
   "metadata": {},
   "outputs": [],
   "source": [
    "f = interp1d(data[' converted'], data['digital'], kind='quadratic')"
   ]
  },
  {
   "cell_type": "code",
   "execution_count": 12,
   "metadata": {},
   "outputs": [
    {
     "data": {
      "text/plain": [
       "array(964.92102331)"
      ]
     },
     "execution_count": 12,
     "metadata": {},
     "output_type": "execute_result"
    }
   ],
   "source": [
    "f(800)"
   ]
  },
  {
   "cell_type": "code",
   "execution_count": 13,
   "metadata": {},
   "outputs": [
    {
     "data": {
      "text/plain": [
       "array(2180.)"
      ]
     },
     "execution_count": 13,
     "metadata": {},
     "output_type": "execute_result"
    }
   ],
   "source": [
    "f(1800)"
   ]
  },
  {
   "cell_type": "code",
   "execution_count": null,
   "metadata": {},
   "outputs": [],
   "source": []
  },
  {
   "cell_type": "code",
   "execution_count": null,
   "metadata": {},
   "outputs": [],
   "source": []
  }
 ],
 "metadata": {
  "kernelspec": {
   "display_name": "Python 3",
   "language": "python",
   "name": "python3"
  },
  "language_info": {
   "codemirror_mode": {
    "name": "ipython",
    "version": 3
   },
   "file_extension": ".py",
   "mimetype": "text/x-python",
   "name": "python",
   "nbconvert_exporter": "python",
   "pygments_lexer": "ipython3",
   "version": "3.7.6"
  }
 },
 "nbformat": 4,
 "nbformat_minor": 4
}
