{
 "cells": [
  {
   "cell_type": "code",
   "execution_count": 5,
   "metadata": {},
   "outputs": [],
   "source": [
    "import numpy as np\n",
    "import scipy as sc\n",
    "from scipy.optimize import curve_fit as cf\n",
    "import matplotlib.pyplot as plt\n",
    "import pandas as pd"
   ]
  },
  {
   "cell_type": "code",
   "execution_count": 40,
   "metadata": {},
   "outputs": [],
   "source": [
    "def sixth_order(x, a, b, c, d, e, f, g):\n",
    "    return a * pow(x,6) + b * pow(x,5) + c * pow(x,4) + d* pow(x,3) + e * pow(x,2) + f * pow(x,1) + g\n",
    "\n",
    "def seventh_order(x, a, b, c, d, e, f, g, h):\n",
    "    return sixth_order(x, a, b, c, d, e, f, g) * x + h"
   ]
  },
  {
   "cell_type": "markdown",
   "metadata": {},
   "source": [
    "Current conversion: converted = ((raw / 1024) - 0.2) * 5000\n"
   ]
  },
  {
   "cell_type": "code",
   "execution_count": 41,
   "metadata": {},
   "outputs": [],
   "source": [
    "data = pd.read_csv(\"high_pt_characterization_10_10\")"
   ]
  },
  {
   "cell_type": "code",
   "execution_count": 42,
   "metadata": {},
   "outputs": [],
   "source": [
    "data['raw'] = (data[' converted'] / 5000 + 0.2) * 1024\n"
   ]
  },
  {
   "cell_type": "code",
   "execution_count": 43,
   "metadata": {},
   "outputs": [
    {
     "data": {
      "text/plain": [
       "0     323.584\n",
       "1     330.752\n",
       "2     207.872\n",
       "3     225.280\n",
       "4     340.992\n",
       "5     356.352\n",
       "6     372.736\n",
       "7     391.168\n",
       "8     405.504\n",
       "9     434.176\n",
       "10    450.560\n",
       "11    471.040\n",
       "12    501.760\n",
       "13    528.384\n",
       "14    557.056\n",
       "15    573.440\n",
       "16    604.160\n",
       "17    632.832\n",
       "18    661.504\n",
       "19    688.128\n",
       "20    714.752\n",
       "21    743.424\n",
       "22    764.928\n",
       "23    779.264\n",
       "24    813.056\n",
       "25    823.296\n",
       "Name: raw, dtype: float64"
      ]
     },
     "execution_count": 43,
     "metadata": {},
     "output_type": "execute_result"
    }
   ],
   "source": [
    "data['raw']"
   ]
  },
  {
   "cell_type": "code",
   "execution_count": 44,
   "metadata": {},
   "outputs": [],
   "source": [
    "res, cov = cf(seventh_order, data['raw'], data['digital'])"
   ]
  },
  {
   "cell_type": "code",
   "execution_count": 45,
   "metadata": {},
   "outputs": [
    {
     "data": {
      "text/plain": [
       "array([ 9.03099042e-16, -3.55409138e-12,  5.86721530e-09, -5.24345465e-06,\n",
       "        2.72565239e-03, -8.19309611e-01,  1.36959023e+02, -9.75802782e+03])"
      ]
     },
     "execution_count": 45,
     "metadata": {},
     "output_type": "execute_result"
    }
   ],
   "source": [
    "res\n"
   ]
  },
  {
   "cell_type": "code",
   "execution_count": 46,
   "metadata": {},
   "outputs": [],
   "source": [
    "x = np.linspace(0,1024)\n",
    "p = seventh_order(x, res[0], res[1], res[2], res[3], res[4], res[5], res[6], res[7])"
   ]
  },
  {
   "cell_type": "code",
   "execution_count": 47,
   "metadata": {},
   "outputs": [
    {
     "data": {
      "text/plain": [
       "[<matplotlib.lines.Line2D at 0x7f09f476c4d0>]"
      ]
     },
     "execution_count": 47,
     "metadata": {},
     "output_type": "execute_result"
    },
    {
     "data": {
      "image/png": "[encoded data removed]",
      "text/plain": [
       "<Figure size 432x288 with 1 Axes>"
      ]
     },
     "metadata": {
      "needs_background": "light"
     },
     "output_type": "display_data"
    }
   ],
   "source": [
    "plt.ylim(0, 5000)\n",
    "plt.plot(x, p)"
   ]
  },
  {
   "cell_type": "code",
   "execution_count": null,
   "metadata": {},
   "outputs": [],
   "source": []
  }
 ],
 "metadata": {
  "kernelspec": {
   "display_name": "Python 3",
   "language": "python",
   "name": "python3"
  },
  "language_info": {
   "codemirror_mode": {
    "name": "ipython",
    "version": 3
   },
   "file_extension": ".py",
   "mimetype": "text/x-python",
   "name": "python",
   "nbconvert_exporter": "python",
   "pygments_lexer": "ipython3",
   "version": "3.7.6"
  }
 },
 "nbformat": 4,
 "nbformat_minor": 4
}
